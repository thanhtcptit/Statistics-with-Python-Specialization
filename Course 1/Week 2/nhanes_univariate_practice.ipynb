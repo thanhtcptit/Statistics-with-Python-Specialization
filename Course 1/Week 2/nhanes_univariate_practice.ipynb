{
 "cells": [
  {
   "cell_type": "markdown",
   "metadata": {},
   "source": [
    "# Practice notebook for univariate analysis using NHANES data\n",
    "\n",
    "This notebook will give you the opportunity to perform some univariate analyses on your own using the NHANES.  These analyses are similar to what was done in the week 2 NHANES case study notebook.\n",
    "\n",
    "You can enter your code into the cells that say \"enter your code here\", and you can type responses to the questions into the cells that say \"Type Markdown and Latex\".\n",
    "\n",
    "Note that most of the code that you will need to write below is very similar to code that appears in the case study notebook.  You will need to edit code from that notebook in small ways to adapt it to the prompts below.\n",
    "\n",
    "To get started, we will use the same module imports and read the data in the same way as we did in the case study:"
   ]
  },
  {
   "cell_type": "code",
   "execution_count": 1,
   "metadata": {},
   "outputs": [
    {
     "data": {
      "text/plain": [
       "Index(['SEQN', 'ALQ101', 'ALQ110', 'ALQ130', 'SMQ020', 'RIAGENDR', 'RIDAGEYR',\n",
       "       'RIDRETH1', 'DMDCITZN', 'DMDEDUC2', 'DMDMARTL', 'DMDHHSIZ', 'WTINT2YR',\n",
       "       'SDMVPSU', 'SDMVSTRA', 'INDFMPIR', 'BPXSY1', 'BPXDI1', 'BPXSY2',\n",
       "       'BPXDI2', 'BMXWT', 'BMXHT', 'BMXBMI', 'BMXLEG', 'BMXARML', 'BMXARMC',\n",
       "       'BMXWAIST', 'HIQ210'],\n",
       "      dtype='object')"
      ]
     },
     "execution_count": 1,
     "metadata": {},
     "output_type": "execute_result"
    }
   ],
   "source": [
    "%matplotlib inline\n",
    "import matplotlib.pyplot as plt\n",
    "import seaborn as sns\n",
    "import pandas as pd\n",
    "import statsmodels.api as sm\n",
    "import numpy as np\n",
    "\n",
    "da = pd.read_csv(\"nhanes_2015_2016.csv\")\n",
    "da.columns"
   ]
  },
  {
   "cell_type": "markdown",
   "metadata": {},
   "source": [
    "## Question 1\n",
    "\n",
    "Relabel the marital status variable [DMDMARTL](https://wwwn.cdc.gov/Nchs/Nhanes/2015-2016/DEMO_I.htm#DMDMARTL) to have brief but informative character labels.  Then construct a frequency table of these values for all people, then for women only, and for men only.  Then construct these three frequency tables using only people whose age is between 30 and 40."
   ]
  },
  {
   "cell_type": "code",
   "execution_count": 2,
   "metadata": {},
   "outputs": [
    {
     "name": "stdout",
     "output_type": "stream",
     "text": [
      "Married                2780\n",
      "Never married          1004\n",
      "Divorced                579\n",
      "Living with partner     527\n",
      "Widowed                 396\n",
      "Separated               186\n",
      "Refused                   2\n",
      "Name: DMDMARTL, dtype: int64\n",
      "-----------------------------\n",
      "Married                1477\n",
      "Never married           484\n",
      "Living with partner     265\n",
      "Divorced                229\n",
      "Widowed                 100\n",
      "Separated                68\n",
      "Refused                   1\n",
      "Name: DMDMARTL, dtype: int64\n",
      "-----------------------------\n",
      "Married                1303\n",
      "Never married           520\n",
      "Divorced                350\n",
      "Widowed                 296\n",
      "Living with partner     262\n",
      "Separated               118\n",
      "Refused                   1\n",
      "Name: DMDMARTL, dtype: int64\n"
     ]
    }
   ],
   "source": [
    "da.DMDMARTL = da.DMDMARTL.replace({1: \"Married\", 2: \"Widowed\", 3: \"Divorced\", 4: \"Separated\", 5: \"Never married\",\n",
    "                 6: \"Living with partner\", 77: \"Refused\", 99: \"Don't Know\"})\n",
    "print(da.DMDMARTL.value_counts())\n",
    "print(\"-----------------------------\")\n",
    "print(da[da.RIAGENDR == 1].DMDMARTL.value_counts())\n",
    "print(\"-----------------------------\")\n",
    "print(da[da.RIAGENDR == 2].DMDMARTL.value_counts())"
   ]
  },
  {
   "cell_type": "markdown",
   "metadata": {},
   "source": [
    "__Q1a.__ Briefly comment on some of the differences that you observe between the distribution of marital status between women and men, for people of all ages."
   ]
  },
  {
   "cell_type": "raw",
   "metadata": {},
   "source": []
  },
  {
   "cell_type": "markdown",
   "metadata": {},
   "source": [
    "__Q1b.__ Briefly comment on the differences that you observe between the distribution of marital status states for women between the overall population, and for women between the ages of 30 and 40."
   ]
  },
  {
   "cell_type": "raw",
   "metadata": {},
   "source": []
  },
  {
   "cell_type": "markdown",
   "metadata": {},
   "source": [
    "__Q1c.__ Repeat part b for the men."
   ]
  },
  {
   "cell_type": "raw",
   "metadata": {},
   "source": []
  },
  {
   "cell_type": "markdown",
   "metadata": {},
   "source": [
    "## Question 2\n",
    "\n",
    "Restricting to the female population, stratify the subjects into age bands no wider than ten years, and construct the distribution of marital status within each age band.  Within each age band, present the distribution in terms of proportions that must sum to 1."
   ]
  },
  {
   "cell_type": "code",
   "execution_count": 3,
   "metadata": {},
   "outputs": [
    {
     "name": "stdout",
     "output_type": "stream",
     "text": [
      "DMDMARTL  Divorced  Living with partner  Married  Never married  Refused  Separated  Widowed\n",
      "agegrp                                                                                      \n",
      "(18, 30]     0.020                0.206    0.286          0.468    0.000      0.020    0.000\n",
      "(30, 40]     0.091                0.120    0.544          0.205    0.000      0.036    0.004\n",
      "(40, 50]     0.137                0.074    0.574          0.125    0.000      0.066    0.024\n",
      "(50, 60]     0.177                0.068    0.547          0.089    0.002      0.057    0.060\n",
      "(60, 70]     0.193                0.043    0.481          0.086    0.000      0.050    0.147\n",
      "(70, 80]     0.144                0.007    0.317          0.051    0.000      0.020    0.461\n"
     ]
    }
   ],
   "source": [
    "x = da[da.RIAGENDR == 2]\n",
    "x[\"agegrp\"] = pd.cut(x.RIDAGEYR, [18, 30, 40, 50, 60, 70, 80])\n",
    "ms = x.groupby([\"agegrp\"])[\"DMDMARTL\"].value_counts()\n",
    "ms = ms.unstack().fillna(0)\n",
    "ms = ms.apply(lambda x: x / x.sum(), axis=1)\n",
    "print(ms.to_string(float_format=\"%.3f\"))"
   ]
  },
  {
   "cell_type": "markdown",
   "metadata": {},
   "source": [
    "__Q2a.__ Comment on the trends that you see in this series of marginal distributions."
   ]
  },
  {
   "cell_type": "raw",
   "metadata": {},
   "source": []
  },
  {
   "cell_type": "markdown",
   "metadata": {},
   "source": [
    "__Q2b.__ Repeat the construction for males."
   ]
  },
  {
   "cell_type": "code",
   "execution_count": 4,
   "metadata": {},
   "outputs": [
    {
     "name": "stdout",
     "output_type": "stream",
     "text": [
      "DMDMARTL  Divorced  Living with partner  Married  Never married  Refused  Separated  Widowed\n",
      "agegrp                                                                                      \n",
      "(18, 30]     0.004                0.201    0.220          0.555    0.000      0.015    0.004\n",
      "(30, 40]     0.052                0.157    0.563          0.194    0.002      0.026    0.004\n",
      "(40, 50]     0.085                0.082    0.703          0.097    0.000      0.027    0.005\n",
      "(50, 60]     0.126                0.075    0.652          0.104    0.000      0.022    0.022\n",
      "(60, 70]     0.126                0.050    0.666          0.087    0.000      0.032    0.039\n",
      "(70, 80]     0.142                0.022    0.612          0.022    0.000      0.035    0.167\n"
     ]
    }
   ],
   "source": [
    "x = da[da.RIAGENDR == 1]\n",
    "x[\"agegrp\"] = pd.cut(x.RIDAGEYR, [18, 30, 40, 50, 60, 70, 80])\n",
    "ms = x.groupby([\"agegrp\"])[\"DMDMARTL\"].value_counts()\n",
    "ms = ms.unstack().fillna(0)\n",
    "ms = ms.apply(lambda x: x / x.sum(), axis=1)\n",
    "print(ms.to_string(float_format=\"%.3f\"))"
   ]
  },
  {
   "cell_type": "markdown",
   "metadata": {},
   "source": [
    "__Q2c.__ Comment on any notable differences that you see when comparing these results for females and for males."
   ]
  },
  {
   "cell_type": "raw",
   "metadata": {},
   "source": []
  },
  {
   "cell_type": "markdown",
   "metadata": {},
   "source": [
    "## Question 3\n",
    "\n",
    "Construct a histogram of the distribution of heights using the BMXHT variable in the NHANES sample."
   ]
  },
  {
   "cell_type": "code",
   "execution_count": 5,
   "metadata": {},
   "outputs": [
    {
     "data": {
      "text/plain": [
       "<matplotlib.axes._subplots.AxesSubplot at 0x7f6ad71b6c50>"
      ]
     },
     "execution_count": 5,
     "metadata": {},
     "output_type": "execute_result"
    },
    {
     "data": {
      "image/png": "[encoded data removed]",
      "text/plain": [
       "<Figure size 432x288 with 1 Axes>"
      ]
     },
     "metadata": {},
     "output_type": "display_data"
    }
   ],
   "source": [
    "sns.distplot(da.BMXHT.dropna())"
   ]
  },
  {
   "cell_type": "markdown",
   "metadata": {},
   "source": [
    "__Q3a.__ Use the `bins` argument to [distplot](https://seaborn.pydata.org/generated/seaborn.distplot.html) to produce histograms with different numbers of bins.  Assess whether the default value for this argument gives a meaningful result, and comment on what happens as the number of bins grows excessively large or excessively small. "
   ]
  },
  {
   "cell_type": "code",
   "execution_count": 6,
   "metadata": {},
   "outputs": [
    {
     "data": {
      "text/plain": [
       "<matplotlib.axes._subplots.AxesSubplot at 0x7f6ba97934e0>"
      ]
     },
     "execution_count": 6,
     "metadata": {},
     "output_type": "execute_result"
    },
    {
     "data": {
      "image/png": "[encoded data removed]",
      "text/plain": [
       "<Figure size 432x288 with 1 Axes>"
      ]
     },
     "metadata": {},
     "output_type": "display_data"
    }
   ],
   "source": [
    "sns.distplot(da.BMXHT.dropna(), bins=5)"
   ]
  },
  {
   "cell_type": "markdown",
   "metadata": {},
   "source": [
    "__Q3b.__ Make separate histograms for the heights of women and men, then make a side-by-side boxplot showing the heights of women and men."
   ]
  },
  {
   "cell_type": "code",
   "execution_count": 7,
   "metadata": {},
   "outputs": [
    {
     "data": {
      "text/plain": [
       "<matplotlib.axes._subplots.AxesSubplot at 0x7f6ba079d748>"
      ]
     },
     "execution_count": 7,
     "metadata": {},
     "output_type": "execute_result"
    },
    {
     "data": {
      "image/png": "[encoded data removed]",
      "text/plain": [
       "<Figure size 432x288 with 1 Axes>"
      ]
     },
     "metadata": {},
     "output_type": "display_data"
    }
   ],
   "source": [
    "sns.distplot(da[da.RIAGENDR == 1].BMXHT.dropna())"
   ]
  },
  {
   "cell_type": "code",
   "execution_count": 8,
   "metadata": {},
   "outputs": [
    {
     "data": {
      "text/plain": [
       "<matplotlib.axes._subplots.AxesSubplot at 0x7f6ba06a9630>"
      ]
     },
     "execution_count": 8,
     "metadata": {},
     "output_type": "execute_result"
    },
    {
     "data": {
      "image/png": "[encoded data removed]",
      "text/plain": [
       "<Figure size 432x288 with 1 Axes>"
      ]
     },
     "metadata": {},
     "output_type": "display_data"
    }
   ],
   "source": [
    "sns.distplot(da[da.RIAGENDR == 2].BMXHT.dropna())"
   ]
  },
  {
   "cell_type": "code",
   "execution_count": 9,
   "metadata": {},
   "outputs": [
    {
     "data": {
      "text/plain": [
       "<matplotlib.axes._subplots.AxesSubplot at 0x7f6ba06c6e10>"
      ]
     },
     "execution_count": 9,
     "metadata": {},
     "output_type": "execute_result"
    },
    {
     "data": {
      "image/png": "[encoded data removed]",
      "text/plain": [
       "<Figure size 432x288 with 1 Axes>"
      ]
     },
     "metadata": {},
     "output_type": "display_data"
    }
   ],
   "source": [
    "sns.boxplot(x=\"RIAGENDR\", y=\"BMXHT\", data=da)"
   ]
  },
  {
   "cell_type": "markdown",
   "metadata": {},
   "source": [
    "__Q3c.__ Comment on what features, if any are not represented clearly in the boxplots, and what features, if any, are easier to see in the boxplots than in the histograms."
   ]
  },
  {
   "cell_type": "raw",
   "metadata": {},
   "source": []
  },
  {
   "cell_type": "markdown",
   "metadata": {},
   "source": [
    "## Question 4\n",
    "\n",
    "Make a boxplot showing the distribution of within-subject differences between the first and second systolic blood pressure measurents ([BPXSY1](https://wwwn.cdc.gov/Nchs/Nhanes/2015-2016/BPX_I.htm#BPXSY1) and [BPXSY2](https://wwwn.cdc.gov/Nchs/Nhanes/2015-2016/BPX_I.htm#BPXSY2))."
   ]
  },
  {
   "cell_type": "code",
   "execution_count": 10,
   "metadata": {},
   "outputs": [
    {
     "data": {
      "text/plain": [
       "<matplotlib.axes._subplots.AxesSubplot at 0x7f6ba0776278>"
      ]
     },
     "execution_count": 10,
     "metadata": {},
     "output_type": "execute_result"
    },
    {
     "data": {
      "image/png": "[encoded data removed]",
      "text/plain": [
       "<Figure size 432x288 with 1 Axes>"
      ]
     },
     "metadata": {},
     "output_type": "display_data"
    }
   ],
   "source": [
    "da[\"SYD\"] = da.BPXSY1 - da.BPXSY2\n",
    "sns.boxplot(y=\"SYD\", data=da)"
   ]
  },
  {
   "cell_type": "markdown",
   "metadata": {},
   "source": [
    "__Q4a.__ What proportion of the subjects have a lower SBP on the second reading compared to the first?"
   ]
  },
  {
   "cell_type": "code",
   "execution_count": 11,
   "metadata": {},
   "outputs": [
    {
     "data": {
      "text/plain": [
       "0.42946817785527464"
      ]
     },
     "execution_count": 11,
     "metadata": {},
     "output_type": "execute_result"
    }
   ],
   "source": [
    "np.mean(da[\"SYD\"] > 0)"
   ]
  },
  {
   "cell_type": "markdown",
   "metadata": {},
   "source": [
    "__Q4b.__ Make side-by-side boxplots of the two systolic blood pressure variables."
   ]
  },
  {
   "cell_type": "code",
   "execution_count": 12,
   "metadata": {},
   "outputs": [
    {
     "data": {
      "text/plain": [
       "<matplotlib.axes._subplots.AxesSubplot at 0x7f6ba04e9ac8>"
      ]
     },
     "execution_count": 12,
     "metadata": {},
     "output_type": "execute_result"
    },
    {
     "data": {
      "image/png": "[encoded data removed]",
      "text/plain": [
       "<Figure size 432x288 with 1 Axes>"
      ]
     },
     "metadata": {},
     "output_type": "display_data"
    }
   ],
   "source": [
    "sns.boxplot(data=da.loc[:, [\"BPXSY1\", \"BPXSY2\"]])"
   ]
  },
  {
   "cell_type": "markdown",
   "metadata": {},
   "source": [
    "__Q4c.__ Comment on the variation within either the first or second systolic blood pressure measurements, and the variation in the within-subject differences between the first and second systolic blood pressure measurements."
   ]
  },
  {
   "cell_type": "raw",
   "metadata": {},
   "source": []
  },
  {
   "cell_type": "markdown",
   "metadata": {},
   "source": [
    "## Question 5\n",
    "\n",
    "Construct a frequency table of household sizes for people within each educational attainment category (the relevant variable is [DMDEDUC2](https://wwwn.cdc.gov/Nchs/Nhanes/2015-2016/DEMO_I.htm#DMDEDUC2)).  Convert the frequencies to proportions."
   ]
  },
  {
   "cell_type": "code",
   "execution_count": 13,
   "metadata": {},
   "outputs": [
    {
     "data": {
      "text/html": [
       "<div>\n",
       "<style scoped>\n",
       "    .dataframe tbody tr th:only-of-type {\n",
       "        vertical-align: middle;\n",
       "    }\n",
       "\n",
       "    .dataframe tbody tr th {\n",
       "        vertical-align: top;\n",
       "    }\n",
       "\n",
       "    .dataframe thead th {\n",
       "        text-align: right;\n",
       "    }\n",
       "</style>\n",
       "<table border=\"1\" class=\"dataframe\">\n",
       "  <thead>\n",
       "    <tr style=\"text-align: right;\">\n",
       "      <th>DMDHHSIZ</th>\n",
       "      <th>1</th>\n",
       "      <th>2</th>\n",
       "      <th>3</th>\n",
       "      <th>4</th>\n",
       "      <th>5</th>\n",
       "      <th>6</th>\n",
       "      <th>7</th>\n",
       "    </tr>\n",
       "    <tr>\n",
       "      <th>DMDEDUC2</th>\n",
       "      <th></th>\n",
       "      <th></th>\n",
       "      <th></th>\n",
       "      <th></th>\n",
       "      <th></th>\n",
       "      <th></th>\n",
       "      <th></th>\n",
       "    </tr>\n",
       "  </thead>\n",
       "  <tbody>\n",
       "    <tr>\n",
       "      <th>1.0</th>\n",
       "      <td>0.109924</td>\n",
       "      <td>0.224427</td>\n",
       "      <td>0.146565</td>\n",
       "      <td>0.132824</td>\n",
       "      <td>0.148092</td>\n",
       "      <td>0.108397</td>\n",
       "      <td>0.129771</td>\n",
       "    </tr>\n",
       "    <tr>\n",
       "      <th>2.0</th>\n",
       "      <td>0.116641</td>\n",
       "      <td>0.222395</td>\n",
       "      <td>0.163297</td>\n",
       "      <td>0.152411</td>\n",
       "      <td>0.146190</td>\n",
       "      <td>0.113530</td>\n",
       "      <td>0.085537</td>\n",
       "    </tr>\n",
       "    <tr>\n",
       "      <th>3.0</th>\n",
       "      <td>0.152614</td>\n",
       "      <td>0.270658</td>\n",
       "      <td>0.171164</td>\n",
       "      <td>0.161889</td>\n",
       "      <td>0.109612</td>\n",
       "      <td>0.065767</td>\n",
       "      <td>0.068297</td>\n",
       "    </tr>\n",
       "    <tr>\n",
       "      <th>4.0</th>\n",
       "      <td>0.151141</td>\n",
       "      <td>0.268970</td>\n",
       "      <td>0.193091</td>\n",
       "      <td>0.169031</td>\n",
       "      <td>0.122147</td>\n",
       "      <td>0.050586</td>\n",
       "      <td>0.045034</td>\n",
       "    </tr>\n",
       "    <tr>\n",
       "      <th>5.0</th>\n",
       "      <td>0.142753</td>\n",
       "      <td>0.347731</td>\n",
       "      <td>0.193997</td>\n",
       "      <td>0.165447</td>\n",
       "      <td>0.095168</td>\n",
       "      <td>0.029283</td>\n",
       "      <td>0.025622</td>\n",
       "    </tr>\n",
       "    <tr>\n",
       "      <th>9.0</th>\n",
       "      <td>NaN</td>\n",
       "      <td>0.666667</td>\n",
       "      <td>NaN</td>\n",
       "      <td>NaN</td>\n",
       "      <td>0.333333</td>\n",
       "      <td>NaN</td>\n",
       "      <td>NaN</td>\n",
       "    </tr>\n",
       "  </tbody>\n",
       "</table>\n",
       "</div>"
      ],
      "text/plain": [
       "DMDHHSIZ         1         2         3         4         5         6         7\n",
       "DMDEDUC2                                                                      \n",
       "1.0       0.109924  0.224427  0.146565  0.132824  0.148092  0.108397  0.129771\n",
       "2.0       0.116641  0.222395  0.163297  0.152411  0.146190  0.113530  0.085537\n",
       "3.0       0.152614  0.270658  0.171164  0.161889  0.109612  0.065767  0.068297\n",
       "4.0       0.151141  0.268970  0.193091  0.169031  0.122147  0.050586  0.045034\n",
       "5.0       0.142753  0.347731  0.193997  0.165447  0.095168  0.029283  0.025622\n",
       "9.0            NaN  0.666667       NaN       NaN  0.333333       NaN       NaN"
      ]
     },
     "execution_count": 13,
     "metadata": {},
     "output_type": "execute_result"
    }
   ],
   "source": [
    "x = da.groupby(\"DMDEDUC2\")[\"DMDHHSIZ\"].value_counts()\n",
    "x = x.unstack()\n",
    "x = x.apply(lambda x: x / x.sum(), axis=1)\n",
    "x"
   ]
  },
  {
   "cell_type": "markdown",
   "metadata": {},
   "source": [
    "__Q5a.__ Comment on any major differences among the distributions."
   ]
  },
  {
   "cell_type": "raw",
   "metadata": {},
   "source": []
  },
  {
   "cell_type": "markdown",
   "metadata": {},
   "source": [
    "__Q5b.__ Restrict the sample to people between 30 and 40 years of age.  Then calculate the median household size for women and men within each level of educational attainment."
   ]
  },
  {
   "cell_type": "code",
   "execution_count": 14,
   "metadata": {},
   "outputs": [
    {
     "data": {
      "text/plain": [
       "DMDHHSIZ\n",
       "1    11.0\n",
       "2    15.0\n",
       "3    16.0\n",
       "4    26.0\n",
       "5    18.0\n",
       "6    12.0\n",
       "7     8.0\n",
       "dtype: float64"
      ]
     },
     "execution_count": 14,
     "metadata": {},
     "output_type": "execute_result"
    }
   ],
   "source": [
    "x = da[(da.RIDAGEYR >= 30) & (da.RIDAGEYR <= 40)]\n",
    "x_m = x[x.RIAGENDR == 1].groupby(\"DMDEDUC2\")[\"DMDHHSIZ\"].value_counts()\n",
    "x_m = x_m.unstack().fillna(0)\n",
    "x_m.median()"
   ]
  },
  {
   "cell_type": "markdown",
   "metadata": {},
   "source": [
    "## Question 6\n",
    "\n",
    "The participants can be clustered into \"maked variance units\" (MVU) based on every combination of the variables [SDMVSTRA](https://wwwn.cdc.gov/Nchs/Nhanes/2015-2016/DEMO_I.htm#SDMVSTRA) and [SDMVPSU](https://wwwn.cdc.gov/Nchs/Nhanes/2015-2016/DEMO_I.htm#SDMVPSU).  Calculate the mean age ([RIDAGEYR](https://wwwn.cdc.gov/Nchs/Nhanes/2015-2016/DEMO_I.htm#RIDAGEYR)), height ([BMXHT](https://wwwn.cdc.gov/Nchs/Nhanes/2015-2016/BMX_I.htm#BMXHT)), and BMI ([BMXBMI](https://wwwn.cdc.gov/Nchs/Nhanes/2015-2016/BMX_I.htm#BMXBMI)) for each gender ([RIAGENDR](https://wwwn.cdc.gov/Nchs/Nhanes/2015-2016/DEMO_I.htm#RIAGENDR)), within each MVU, and report the ratio between the largest and smallest mean (e.g. for height) across the MVUs."
   ]
  },
  {
   "cell_type": "code",
   "execution_count": 22,
   "metadata": {},
   "outputs": [
    {
     "data": {
      "text/plain": [
       "1.0444156398355815"
      ]
     },
     "execution_count": 22,
     "metadata": {},
     "output_type": "execute_result"
    }
   ],
   "source": [
    "da[\"MVU\"] = da[\"SDMVSTRA\"] * da[\"SDMVPSU\"]\n",
    "x = da.groupby(\"MVU\").apply(lambda l: np.mean(l))\n",
    "x.BMXHT.max() / x.BMXHT.min()"
   ]
  },
  {
   "cell_type": "markdown",
   "metadata": {},
   "source": [
    "__Q6a.__ Comment on the extent to which mean age, height, and BMI vary among the MVUs."
   ]
  },
  {
   "cell_type": "raw",
   "metadata": {},
   "source": []
  },
  {
   "cell_type": "markdown",
   "metadata": {},
   "source": [
    "__Q6b.__ Calculate the inter-quartile range (IQR) for age, height, and BMI for each gender and each MVU.  Report the ratio between the largest and smalles IQR across the MVUs."
   ]
  },
  {
   "cell_type": "code",
   "execution_count": 32,
   "metadata": {},
   "outputs": [
    {
     "name": "stdout",
     "output_type": "stream",
     "text": [
      "RIAGENDR\n",
      "1    31.0\n",
      "2    30.0\n",
      "Name: RIDAGEYR, dtype: float64\n",
      "MVU\n",
      "119    31.25\n",
      "120    26.00\n",
      "121    31.50\n",
      "122    27.00\n",
      "123    30.00\n",
      "124    30.00\n",
      "125    29.50\n",
      "126    33.00\n",
      "127    29.00\n",
      "128    30.00\n",
      "129    22.25\n",
      "130    35.25\n",
      "131    36.00\n",
      "132    25.00\n",
      "133    33.75\n",
      "238    33.00\n",
      "240    27.00\n",
      "242    25.00\n",
      "244    28.75\n",
      "246    33.00\n",
      "248    26.00\n",
      "250    33.75\n",
      "252    32.50\n",
      "254    27.75\n",
      "256    24.00\n",
      "258    28.75\n",
      "260    29.00\n",
      "262    27.00\n",
      "264    35.00\n",
      "266    31.00\n",
      "Name: RIDAGEYR, dtype: float64\n"
     ]
    },
    {
     "data": {
      "text/plain": [
       "1.6179775280898876"
      ]
     },
     "execution_count": 32,
     "metadata": {},
     "output_type": "execute_result"
    }
   ],
   "source": [
    "x_gender = da.groupby(\"RIAGENDR\")[\"RIDAGEYR\"].apply(lambda l: np.subtract(*np.percentile(l, [75, 25])))\n",
    "print(x_gender)\n",
    "x_mvu = da.groupby(\"MVU\")[\"RIDAGEYR\"].apply(lambda l: np.subtract(*np.percentile(l, [75, 25])))\n",
    "print(x_mvu)\n",
    "x_mvu.max() / x_mvu.min()"
   ]
  },
  {
   "cell_type": "markdown",
   "metadata": {},
   "source": [
    "__Q6c.__ Comment on the extent to which the IQR for age, height, and BMI vary among the MVUs."
   ]
  },
  {
   "cell_type": "raw",
   "metadata": {},
   "source": []
  }
 ],
 "metadata": {
  "kernelspec": {
   "display_name": "Python 3",
   "language": "python",
   "name": "python3"
  },
  "language_info": {
   "codemirror_mode": {
    "name": "ipython",
    "version": 3
   },
   "file_extension": ".py",
   "mimetype": "text/x-python",
   "name": "python",
   "nbconvert_exporter": "python",
   "pygments_lexer": "ipython3",
   "version": "3.6.3"
  }
 },
 "nbformat": 4,
 "nbformat_minor": 2
}
